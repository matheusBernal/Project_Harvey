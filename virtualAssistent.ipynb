{
 "cells": [
  {
   "cell_type": "code",
   "execution_count": null,
   "metadata": {},
   "outputs": [],
   "source": [
    "import selenium.webdriver as wb\n",
    "import speech_recognition as sr\n",
    "import pyttsx4\n",
    "import subprocess"
   ]
  },
  {
   "cell_type": "markdown",
   "metadata": {},
   "source": [
    "This project is a virtual assistent on Portuguese.First let's make a simple a apresentation"
   ]
  },
  {
   "cell_type": "code",
   "execution_count": 67,
   "metadata": {},
   "outputs": [],
   "source": [
    "text_pt_br = 'Olá! Eu sou o Harvey seu assistente virtual, no que posso te ajudar?' #\"Hi! I'm Harvey your virtual assitent, how can I help you?\""
   ]
  },
  {
   "cell_type": "code",
   "execution_count": 68,
   "metadata": {},
   "outputs": [],
   "source": [
    "engine = pyttsx4.init()\n",
    "engine.say(text_pt_br)\n",
    "engine.runAndWait()"
   ]
  },
  {
   "cell_type": "markdown",
   "metadata": {},
   "source": [
    "Now I want creat a function that open youtube and some desktops application"
   ]
  },
  {
   "cell_type": "code",
   "execution_count": 69,
   "metadata": {},
   "outputs": [
    {
     "name": "stdout",
     "output_type": "stream",
     "text": [
      "Diga algo...\n",
      "Abra o PowerPoint\n"
     ]
    }
   ],
   "source": [
    "recognizer = sr.Recognizer()\n",
    "\n",
    "with sr.Microphone() as source:\n",
    "    print('Diga algo...')\n",
    "    recognizer.adjust_for_ambient_noise(source)\n",
    "    audio = recognizer.listen(source)\n",
    "\n",
    "try:\n",
    "    text = recognizer.recognize_google(audio,language='pt-BR')\n",
    "    word_key = text.split(' ')\n",
    "    print(text)\n",
    "    if 'YouTube' in word_key:\n",
    "        web = wb.Edge()\n",
    "        web.get('https://www.youtube.com/')\n",
    "    elif 'Excel' in word_key:\n",
    "        subprocess.run([\"start\", \"excel\"], shell=True)\n",
    "    elif 'Word' in word_key:\n",
    "        subprocess.run([\"start\", \"word\"], shell=True)\n",
    "    elif 'PowerPoint' in word_key:\n",
    "        subprocess.run([\"start\", \"powerpnt\"], shell=True)\n",
    "except sr.UnknownValueError:\n",
    "    print(\"Não entendi\")\n",
    "except sr.RequestError:\n",
    "     print(\"Erro ao conectar ao serviço de reconhecimento.\")"
   ]
  },
  {
   "cell_type": "code",
   "execution_count": null,
   "metadata": {},
   "outputs": [],
   "source": []
  }
 ],
 "metadata": {
  "kernelspec": {
   "display_name": ".venv",
   "language": "python",
   "name": "python3"
  },
  "language_info": {
   "codemirror_mode": {
    "name": "ipython",
    "version": 3
   },
   "file_extension": ".py",
   "mimetype": "text/x-python",
   "name": "python",
   "nbconvert_exporter": "python",
   "pygments_lexer": "ipython3",
   "version": "3.12.9"
  }
 },
 "nbformat": 4,
 "nbformat_minor": 2
}
